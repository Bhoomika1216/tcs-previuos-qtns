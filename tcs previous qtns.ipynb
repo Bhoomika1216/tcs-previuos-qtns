{
 "cells": [
  {
   "cell_type": "code",
   "execution_count": 3,
   "id": "f0cce5e7-cfa8-48df-8498-2f54d7c73bfe",
   "metadata": {},
   "outputs": [
    {
     "ename": "AttributeError",
     "evalue": "'list' object has no attribute 'End'",
     "output_type": "error",
     "traceback": [
      "\u001b[1;31m---------------------------------------------------------------------------\u001b[0m",
      "\u001b[1;31mAttributeError\u001b[0m                            Traceback (most recent call last)",
      "Cell \u001b[1;32mIn[3], line 3\u001b[0m\n\u001b[0;32m      1\u001b[0m x\u001b[38;5;241m=\u001b[39m[\u001b[38;5;241m1\u001b[39m,\u001b[38;5;241m2\u001b[39m,\u001b[38;5;241m3\u001b[39m,\u001b[38;5;241m4\u001b[39m]\n\u001b[0;32m      2\u001b[0m \u001b[38;5;28;01mfor\u001b[39;00m i \u001b[38;5;129;01min\u001b[39;00m x:\n\u001b[1;32m----> 3\u001b[0m     \u001b[38;5;28mprint\u001b[39m(x\u001b[38;5;241m.\u001b[39mEnd\u001b[38;5;241m==\u001b[39m\u001b[38;5;124m'\u001b[39m\u001b[38;5;124m \u001b[39m\u001b[38;5;124m'\u001b[39m)\n",
      "\u001b[1;31mAttributeError\u001b[0m: 'list' object has no attribute 'End'"
     ]
    }
   ],
   "source": []
  },
  {
   "cell_type": "code",
   "execution_count": 4,
   "id": "54f5dc69-0027-4bca-9340-26f71b2e9418",
   "metadata": {},
   "outputs": [
    {
     "name": "stdout",
     "output_type": "stream",
     "text": [
      "1234"
     ]
    }
   ],
   "source": [
    "x={1,2,3,4}\n",
    "for i in x:\n",
    "    print(i,end='')"
   ]
  },
  {
   "cell_type": "code",
   "execution_count": 5,
   "id": "ff065810-3c2e-475b-86fe-10a010ebfb0d",
   "metadata": {},
   "outputs": [
    {
     "name": "stdout",
     "output_type": "stream",
     "text": [
      "1\n",
      "2\n",
      "3\n",
      "4\n"
     ]
    }
   ],
   "source": [
    "x={1,2,3,4}\n",
    "for i in x:\n",
    "    print(i)"
   ]
  },
  {
   "cell_type": "code",
   "execution_count": 30,
   "id": "6bf9de7d-0c5d-44f6-b656-5096c0fba52b",
   "metadata": {},
   "outputs": [],
   "source": [
    "for i in range(8):\n",
    "    if i==5:\n",
    "        pass\n",
    "        print(i)\n",
    "    break\n",
    "    if i==6:\n",
    "        continue\n",
    "        print(i)\n",
    "    break\n",
    "    if i==8:\n",
    "        break\n",
    "        print(i)\n"
   ]
  },
  {
   "cell_type": "code",
   "execution_count": 46,
   "id": "00aeba68-d90e-41d5-88bd-d9d6d0d9ca65",
   "metadata": {},
   "outputs": [
    {
     "ename": "SyntaxError",
     "evalue": "unexpected character after line continuation character (3085758174.py, line 4)",
     "output_type": "error",
     "traceback": [
      "\u001b[1;36m  Cell \u001b[1;32mIn[46], line 4\u001b[1;36m\u001b[0m\n\u001b[1;33m    print(i\\t)\u001b[0m\n\u001b[1;37m            ^\u001b[0m\n\u001b[1;31mSyntaxError\u001b[0m\u001b[1;31m:\u001b[0m unexpected character after line continuation character\n"
     ]
    }
   ],
   "source": [
    "for i in range(10):\n",
    "    if i==5:\n",
    "        pass\n",
    "    print(i)\n",
    "    \n"
   ]
  },
  {
   "cell_type": "code",
   "execution_count": 50,
   "id": "fdf8b0e9-e388-4316-9f5f-33609884a20e",
   "metadata": {},
   "outputs": [
    {
     "name": "stdout",
     "output_type": "stream",
     "text": [
      "0\n",
      "1\n",
      "2\n",
      "3\n",
      "4\n",
      "5\n",
      "6\n",
      "7\n",
      "8\n",
      "9\n"
     ]
    }
   ],
   "source": [
    "for i in range(10):\n",
    "    if i==7:\n",
    "        pass\n",
    "    print(i)\n"
   ]
  },
  {
   "cell_type": "code",
   "execution_count": 59,
   "id": "a8c6bef1-13ff-4d5b-9e3e-fda94eae06bc",
   "metadata": {},
   "outputs": [
    {
     "name": "stdout",
     "output_type": "stream",
     "text": [
      "yes\n"
     ]
    }
   ],
   "source": [
    "def palindrome(s):\n",
    "    return s==s[::-1]\n",
    "s=\"madam\"\n",
    "p=palindrome(s)\n",
    "if p:\n",
    "  print(\"yes\")\n",
    "else:\n",
    "  print(\"No\")"
   ]
  },
  {
   "cell_type": "code",
   "execution_count": 60,
   "id": "40c3df74-57d0-48ce-8801-be91eccbc357",
   "metadata": {},
   "outputs": [
    {
     "name": "stdout",
     "output_type": "stream",
     "text": [
      "0\n",
      "1\n",
      "2\n",
      "3\n",
      "4\n"
     ]
    }
   ],
   "source": [
    "for i in range(10):\n",
    "    if i==5:\n",
    "        break\n",
    "    print(i)"
   ]
  },
  {
   "cell_type": "code",
   "execution_count": 62,
   "id": "ccc9087f-b818-4214-8263-378b69de303b",
   "metadata": {},
   "outputs": [
    {
     "name": "stdout",
     "output_type": "stream",
     "text": [
      "0\n",
      "1\n",
      "2\n",
      "3\n",
      "4\n",
      "6\n",
      "7\n",
      "8\n",
      "9\n"
     ]
    }
   ],
   "source": [
    "for i in range(10):\n",
    "    if i==5:\n",
    "        continue\n",
    "    print(i)"
   ]
  },
  {
   "cell_type": "code",
   "execution_count": 73,
   "id": "ccc1e611-8693-4dec-99e7-2a1dd5335cd1",
   "metadata": {},
   "outputs": [
    {
     "name": "stdout",
     "output_type": "stream",
     "text": [
      "odd\n"
     ]
    }
   ],
   "source": [
    "i=7;\n",
    "if i%2==0:\n",
    " print(\"even\")\n",
    "else:\n",
    " print(\"odd\")\n"
   ]
  },
  {
   "cell_type": "code",
   "execution_count": 2,
   "id": "b029e5af-a7b7-4606-8d13-9f29bdec96f0",
   "metadata": {},
   "outputs": [
    {
     "name": "stdout",
     "output_type": "stream",
     "text": [
      "prime\n"
     ]
    }
   ],
   "source": [
    "i=5\n",
    "if i%1==0:\n",
    " print(\"prime\")\n",
    "else:\n",
    " print(\"not\")\n",
    "    \n",
    "    \n",
    "    "
   ]
  },
  {
   "cell_type": "code",
   "execution_count": 11,
   "id": "b84bcafa-3e4b-4a7f-8295-d90d983777f4",
   "metadata": {},
   "outputs": [
    {
     "ename": "ZeroDivisionError",
     "evalue": "integer modulo by zero",
     "output_type": "error",
     "traceback": [
      "\u001b[1;31m---------------------------------------------------------------------------\u001b[0m",
      "\u001b[1;31mZeroDivisionError\u001b[0m                         Traceback (most recent call last)",
      "Cell \u001b[1;32mIn[11], line 2\u001b[0m\n\u001b[0;32m      1\u001b[0m \u001b[38;5;28;01mfor\u001b[39;00m i \u001b[38;5;129;01min\u001b[39;00m \u001b[38;5;28mrange\u001b[39m(\u001b[38;5;241m10\u001b[39m):\n\u001b[1;32m----> 2\u001b[0m     \u001b[38;5;28;01mif\u001b[39;00m i\u001b[38;5;241m%\u001b[39mi\u001b[38;5;241m==\u001b[39m\u001b[38;5;241m0\u001b[39m:\n\u001b[0;32m      3\u001b[0m      \u001b[38;5;28mprint\u001b[39m(i)\n",
      "\u001b[1;31mZeroDivisionError\u001b[0m: integer modulo by zero"
     ]
    }
   ],
   "source": [
    "for i in range(10):\n",
    "    if i%i==0:\n",
    "     print(i)\n",
    "        "
   ]
  },
  {
   "cell_type": "code",
   "execution_count": 1,
   "id": "e48a835e-0cf6-41a0-8371-7bdf4163b220",
   "metadata": {},
   "outputs": [
    {
     "name": "stdin",
     "output_type": "stream",
     "text": [
      " 1 2 3 4 5\n"
     ]
    },
    {
     "name": "stdout",
     "output_type": "stream",
     "text": [
      "sum=15\n",
      "average=3\n"
     ]
    }
   ],
   "source": [
    "#find sum and average\n",
    "numbers=list(map(int,input().split()))\n",
    "total_sum=sum(numbers)\n",
    "average=total_sum/len(numbers)\n",
    "print(f\"sum={total_sum}\")\n",
    "print(f\"average={int(average)}\")"
   ]
  },
  {
   "cell_type": "code",
   "execution_count": 2,
   "id": "73e389d3-31ab-433a-9b8a-b82c96728683",
   "metadata": {},
   "outputs": [
    {
     "name": "stdin",
     "output_type": "stream",
     "text": [
      " 100 150\n"
     ]
    },
    {
     "name": "stdout",
     "output_type": "stream",
     "text": [
      "101 111 121 131 141 "
     ]
    }
   ],
   "source": [
    "#palindrome fromm 100 to 150\n",
    "A,B=map(int,input().split())\n",
    "for num in range(A,B+1):\n",
    "    if str(num)==str(num)[::-1]:\n",
    "        print(num,end=\" \")"
   ]
  },
  {
   "cell_type": "code",
   "execution_count": 3,
   "id": "b43acb04-2458-47e5-b241-9a5b96020d7a",
   "metadata": {},
   "outputs": [
    {
     "name": "stdin",
     "output_type": "stream",
     "text": [
      " 72\n"
     ]
    },
    {
     "name": "stdout",
     "output_type": "stream",
     "text": [
      "40 seconds\n"
     ]
    }
   ],
   "source": [
    "#given speed of train and find time in seconds\n",
    "SOT = int(input()) \n",
    "\n",
    "if 1 <= SOT <= 200:\n",
    "    time = (800 / SOT) * (18 / 5)\n",
    "    print(int(time), \"seconds\")\n",
    "else:\n",
    "    print(\"Invalid input Speed should be between 1 and 200.\")"
   ]
  },
  {
   "cell_type": "code",
   "execution_count": 4,
   "id": "0e1b82d2-223d-4ca7-85ec-e693a4e0d2c6",
   "metadata": {},
   "outputs": [
    {
     "name": "stdin",
     "output_type": "stream",
     "text": [
      " 28\n"
     ]
    },
    {
     "name": "stdout",
     "output_type": "stream",
     "text": [
      "True\n"
     ]
    }
   ],
   "source": [
    "# perfect num or not\n",
    "N=int(input())\n",
    "sum_divisors=sum(i for i in range(1,N) if N%i==0)\n",
    "print(sum_divisors==N)"
   ]
  },
  {
   "cell_type": "code",
   "execution_count": 5,
   "id": "dd3e129c-b4e3-41a1-a48a-483fc42d1872",
   "metadata": {},
   "outputs": [
    {
     "name": "stdin",
     "output_type": "stream",
     "text": [
      " 100\n"
     ]
    },
    {
     "name": "stdout",
     "output_type": "stream",
     "text": [
      "36 km/h\n"
     ]
    }
   ],
   "source": [
    "#speed calculation in km/hr\n",
    "def cal_speed(time_sec):\n",
    "    speed=(1000/time_sec)*3.6\n",
    "    return int(speed)\n",
    "time_sec=int(input())\n",
    "print(cal_speed(time_sec),\"km/h\")"
   ]
  },
  {
   "cell_type": "code",
   "execution_count": 6,
   "id": "294a4907-ccd0-4b02-9359-173e897529ac",
   "metadata": {},
   "outputs": [
    {
     "name": "stdin",
     "output_type": "stream",
     "text": [
      " 3 2 1 0 4\n"
     ]
    },
    {
     "name": "stdout",
     "output_type": "stream",
     "text": [
      "False\n"
     ]
    }
   ],
   "source": [
    "def can_reach_last_index(nums):\n",
    "    max_reach = 0\n",
    "    for i in range(len(nums)):\n",
    "        if i > max_reach:\n",
    "            return False\n",
    "        max_reach = max(max_reach, i + nums[i])\n",
    "    return True\n",
    "nums = list(map(int, input().split()))\n",
    "print(can_reach_last_index(nums))\n"
   ]
  },
  {
   "cell_type": "code",
   "execution_count": 7,
   "id": "071acd4c-0cac-4400-a497-1fdd9e41b036",
   "metadata": {},
   "outputs": [
    {
     "name": "stdin",
     "output_type": "stream",
     "text": [
      "enter N: 3\n",
      "enter M: 0\n"
     ]
    },
    {
     "name": "stdout",
     "output_type": "stream",
     "text": [
      "sum of integers from 0 to 3 is: 6\n"
     ]
    }
   ],
   "source": [
    "#sum of integers bw m and n\n",
    "n=int(input(\"enter N:\"))\n",
    "m=int(input(\"enter M:\"))\n",
    "total=sum(range(m,n+1))\n",
    "print(\"sum of integers from\",m,\"to\",n,\"is:\",total)\n"
   ]
  },
  {
   "cell_type": "code",
   "execution_count": 8,
   "id": "b5dfab25-cab2-47b5-b68f-a2f07c798f1d",
   "metadata": {},
   "outputs": [
    {
     "name": "stdout",
     "output_type": "stream",
     "text": [
      "5\n"
     ]
    }
   ],
   "source": [
    "#find unique number\n",
    "def find_unique(arr):\n",
    "    unique=0\n",
    "    for num in arr:\n",
    "        unique^=num\n",
    "    return unique\n",
    "arr=[5,3,2,3,2]\n",
    "print(find_unique(arr))"
   ]
  },
  {
   "cell_type": "code",
   "execution_count": null,
   "id": "cede6322-4837-4abe-948e-c81ded2ad4d6",
   "metadata": {},
   "outputs": [],
   "source": [
    "#check whether the give num is armstrong\n",
    "def is_arm(n):\n",
    "    return n==sum(int(digit)**len(str(n)) for digit in str(n))\n",
    "num=int(input(\"enter a number:\"))\n",
    "if is_arm(num):\n",
    "    print(num,\"is a armstrong number\")\n",
    "else:\n",
    "    print(num,\"is not a armstrong number\")"
   ]
  },
  {
   "cell_type": "code",
   "execution_count": null,
   "id": "621b922c-08e3-467b-a6cd-925046cd50db",
   "metadata": {},
   "outputs": [],
   "source": []
  }
 ],
 "metadata": {
  "kernelspec": {
   "display_name": "Python 3 (ipykernel)",
   "language": "python",
   "name": "python3"
  },
  "language_info": {
   "codemirror_mode": {
    "name": "ipython",
    "version": 3
   },
   "file_extension": ".py",
   "mimetype": "text/x-python",
   "name": "python",
   "nbconvert_exporter": "python",
   "pygments_lexer": "ipython3",
   "version": "3.11.7"
  }
 },
 "nbformat": 4,
 "nbformat_minor": 5
}
